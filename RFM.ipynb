{
 "cells": [
  {
   "cell_type": "markdown",
   "metadata": {},
   "source": [
    "### RFM Value"
   ]
  },
  {
   "cell_type": "code",
   "execution_count": 1,
   "metadata": {},
   "outputs": [],
   "source": [
    "import matplotlib.pyplot as plt\n",
    "import pandas as pd\n",
    "import seaborn as sns\n",
    "import matplotlib.pyplot as plt\n",
    "import warnings\n",
    "warnings.filterwarnings('ignore')\n",
    "df= pd.read_csv('C:/Users/Administrator/Downloads/Clevertap_Date_wise.csv',encoding = \"ISO-8859-1\")\n",
    "df['Date']=pd.to_datetime(df['Date'])\n",
    "df1=df.fillna(0)\n",
    "m=df1.groupby(['AccountName'])['Count'].aggregate('sum').reset_index().sort_values('Count', ascending=False)\n",
    "f=df1.groupby(['AccountName'])['Count'].aggregate('count').reset_index().sort_values('Count', ascending=False)\n",
    "recency=pd.DataFrame(df1.groupby(['AccountName'])['Date'].max())\n",
    "recency['Company']=recency.index\n",
    "recency.reset_index(inplace=True)\n",
    "df2=pd.concat([m,f['Count'],recency['Date']],axis=1)\n",
    "df2.columns=['AccountName','Monetory','Frequency','Recency']\n",
    "df2['Date'] = pd.to_datetime(df2['Recency'])\n",
    "import datetime\n",
    "now = pd.to_datetime(datetime.date.today())\n",
    "df2['Recency']=abs(df2['Date']-now)\n",
    "df2.drop('Date',axis=1,inplace=True)\n",
    "quantiles = df2.quantile(q=[0.20,0.4,0.6,0.8])\n",
    "quantiles = quantiles.to_dict()\n",
    "segmented_rfm = df2\n",
    "segmented_rfm['Recency']=pd.DataFrame((segmented_rfm['Recency']/(24*60*60*1000000000)).astype('int64'))\n",
    "def RScore(x,p,d):\n",
    "    if x <= d[p][0.20]:\n",
    "        return 5\n",
    "    elif x <= d[p][0.40]:\n",
    "        return 4\n",
    "    elif x <= d[p][0.60]: \n",
    "        return 3\n",
    "    elif x <= d[p][0.80]: \n",
    "        return 2\n",
    "    else:\n",
    "        return 1\n",
    "    \n",
    "def FMScore(x,p,d):\n",
    "    if x <= d[p][0.20]:\n",
    "        return 1\n",
    "    elif x <= d[p][0.40]:\n",
    "        return 2\n",
    "    elif x <= d[p][0.60]: \n",
    "        return 3\n",
    "    elif x <= d[p][0.80]: \n",
    "        return 4\n",
    "    else:\n",
    "        return 5"
   ]
  },
  {
   "cell_type": "code",
   "execution_count": 132,
   "metadata": {},
   "outputs": [],
   "source": [
    "quantiles=segmented_rfm.quantile(q=[0.20,0.4,0.6,0.8])"
   ]
  },
  {
   "cell_type": "code",
   "execution_count": 133,
   "metadata": {},
   "outputs": [
    {
     "data": {
      "text/html": [
       "<div>\n",
       "<style scoped>\n",
       "    .dataframe tbody tr th:only-of-type {\n",
       "        vertical-align: middle;\n",
       "    }\n",
       "\n",
       "    .dataframe tbody tr th {\n",
       "        vertical-align: top;\n",
       "    }\n",
       "\n",
       "    .dataframe thead th {\n",
       "        text-align: right;\n",
       "    }\n",
       "</style>\n",
       "<table border=\"1\" class=\"dataframe\">\n",
       "  <thead>\n",
       "    <tr style=\"text-align: right;\">\n",
       "      <th></th>\n",
       "      <th>Monetory</th>\n",
       "      <th>Frequency</th>\n",
       "      <th>Recency</th>\n",
       "      <th>r_quartile</th>\n",
       "      <th>f_quartile</th>\n",
       "      <th>m_quartile</th>\n",
       "    </tr>\n",
       "  </thead>\n",
       "  <tbody>\n",
       "    <tr>\n",
       "      <th>0.2</th>\n",
       "      <td>2.0</td>\n",
       "      <td>2.0</td>\n",
       "      <td>1.0</td>\n",
       "      <td>2.0</td>\n",
       "      <td>1.0</td>\n",
       "      <td>1.0</td>\n",
       "    </tr>\n",
       "    <tr>\n",
       "      <th>0.4</th>\n",
       "      <td>11.0</td>\n",
       "      <td>6.0</td>\n",
       "      <td>6.0</td>\n",
       "      <td>3.0</td>\n",
       "      <td>2.0</td>\n",
       "      <td>2.0</td>\n",
       "    </tr>\n",
       "    <tr>\n",
       "      <th>0.6</th>\n",
       "      <td>65.4</td>\n",
       "      <td>32.0</td>\n",
       "      <td>54.0</td>\n",
       "      <td>4.0</td>\n",
       "      <td>3.0</td>\n",
       "      <td>3.4</td>\n",
       "    </tr>\n",
       "    <tr>\n",
       "      <th>0.8</th>\n",
       "      <td>364.8</td>\n",
       "      <td>113.2</td>\n",
       "      <td>140.0</td>\n",
       "      <td>5.0</td>\n",
       "      <td>4.2</td>\n",
       "      <td>4.2</td>\n",
       "    </tr>\n",
       "  </tbody>\n",
       "</table>\n",
       "</div>"
      ],
      "text/plain": [
       "     Monetory  Frequency  Recency  r_quartile  f_quartile  m_quartile\n",
       "0.2       2.0        2.0      1.0         2.0         1.0         1.0\n",
       "0.4      11.0        6.0      6.0         3.0         2.0         2.0\n",
       "0.6      65.4       32.0     54.0         4.0         3.0         3.4\n",
       "0.8     364.8      113.2    140.0         5.0         4.2         4.2"
      ]
     },
     "execution_count": 133,
     "metadata": {},
     "output_type": "execute_result"
    }
   ],
   "source": [
    "quantiles"
   ]
  },
  {
   "cell_type": "code",
   "execution_count": 9,
   "metadata": {},
   "outputs": [],
   "source": [
    "quantile=quantiles.reset_index()"
   ]
  },
  {
   "cell_type": "markdown",
   "metadata": {},
   "source": [
    "### Recency logic"
   ]
  },
  {
   "cell_type": "code",
   "execution_count": 12,
   "metadata": {},
   "outputs": [],
   "source": [
    "segmented_rfm['r_quartile']=segmented_rfm['Recency']"
   ]
  },
  {
   "cell_type": "code",
   "execution_count": 14,
   "metadata": {},
   "outputs": [],
   "source": [
    "for i in range(len(segmented_rfm['Recency'])):\n",
    "    if (segmented_rfm['Recency'][i]<=quantile['Recency'][0]):\n",
    "        segmented_rfm['r_quartile'][i]=5\n",
    "    elif (segmented_rfm['Recency'][i]<=quantile['Recency'][1]):\n",
    "        segmented_rfm['r_quartile'][i]=4\n",
    "    elif (segmented_rfm['Recency'][i]<=quantile['Recency'][2]):\n",
    "        segmented_rfm['r_quartile'][i]=3\n",
    "    elif (segmented_rfm['Recency'][i]<=quantile['Recency'][3]):\n",
    "        segmented_rfm['r_quartile'][i]=2\n",
    "    else:\n",
    "        segmented_rfm['r_quartile'][i]=1"
   ]
  },
  {
   "cell_type": "code",
   "execution_count": 16,
   "metadata": {},
   "outputs": [],
   "source": [
    "segmented_rfm['f_quartile'] = segmented_rfm['Frequency'].apply(FMScore, args=('Frequency',quantiles,))\n",
    "segmented_rfm['m_quartile'] = segmented_rfm['Monetory'].apply(FMScore, args=('Monetory',quantiles,))"
   ]
  },
  {
   "cell_type": "code",
   "execution_count": 22,
   "metadata": {},
   "outputs": [
    {
     "data": {
      "text/html": [
       "<div>\n",
       "<style scoped>\n",
       "    .dataframe tbody tr th:only-of-type {\n",
       "        vertical-align: middle;\n",
       "    }\n",
       "\n",
       "    .dataframe tbody tr th {\n",
       "        vertical-align: top;\n",
       "    }\n",
       "\n",
       "    .dataframe thead th {\n",
       "        text-align: right;\n",
       "    }\n",
       "</style>\n",
       "<table border=\"1\" class=\"dataframe\">\n",
       "  <thead>\n",
       "    <tr style=\"text-align: right;\">\n",
       "      <th></th>\n",
       "      <th>AccountName</th>\n",
       "      <th>Monetory</th>\n",
       "      <th>Frequency</th>\n",
       "      <th>Recency</th>\n",
       "      <th>r_quartile</th>\n",
       "      <th>f_quartile</th>\n",
       "      <th>m_quartile</th>\n",
       "      <th>RFMScore</th>\n",
       "    </tr>\n",
       "  </thead>\n",
       "  <tbody>\n",
       "    <tr>\n",
       "      <th>960</th>\n",
       "      <td>Systemic Electric Pvt Ltd</td>\n",
       "      <td>601</td>\n",
       "      <td>68</td>\n",
       "      <td>1</td>\n",
       "      <td>5</td>\n",
       "      <td>4</td>\n",
       "      <td>5</td>\n",
       "      <td>545</td>\n",
       "    </tr>\n",
       "  </tbody>\n",
       "</table>\n",
       "</div>"
      ],
      "text/plain": [
       "                   AccountName  Monetory  Frequency  Recency  r_quartile  \\\n",
       "960  Systemic Electric Pvt Ltd       601         68        1           5   \n",
       "\n",
       "     f_quartile  m_quartile RFMScore  \n",
       "960           4           5      545  "
      ]
     },
     "execution_count": 22,
     "metadata": {},
     "output_type": "execute_result"
    }
   ],
   "source": [
    "segmented_rfm['RFMScore'] = segmented_rfm.r_quartile.map(str) + segmented_rfm.f_quartile.map(str) + segmented_rfm.m_quartile.map(str)"
   ]
  },
  {
   "cell_type": "code",
   "execution_count": 134,
   "metadata": {},
   "outputs": [
    {
     "data": {
      "text/html": [
       "<div>\n",
       "<style scoped>\n",
       "    .dataframe tbody tr th:only-of-type {\n",
       "        vertical-align: middle;\n",
       "    }\n",
       "\n",
       "    .dataframe tbody tr th {\n",
       "        vertical-align: top;\n",
       "    }\n",
       "\n",
       "    .dataframe thead th {\n",
       "        text-align: right;\n",
       "    }\n",
       "</style>\n",
       "<table border=\"1\" class=\"dataframe\">\n",
       "  <thead>\n",
       "    <tr style=\"text-align: right;\">\n",
       "      <th></th>\n",
       "      <th>index</th>\n",
       "      <th>Monetory</th>\n",
       "      <th>Frequency</th>\n",
       "      <th>Recency</th>\n",
       "    </tr>\n",
       "  </thead>\n",
       "  <tbody>\n",
       "    <tr>\n",
       "      <th>0</th>\n",
       "      <td>0.2</td>\n",
       "      <td>2.0</td>\n",
       "      <td>2.0</td>\n",
       "      <td>1.0</td>\n",
       "    </tr>\n",
       "    <tr>\n",
       "      <th>1</th>\n",
       "      <td>0.4</td>\n",
       "      <td>11.0</td>\n",
       "      <td>6.0</td>\n",
       "      <td>6.0</td>\n",
       "    </tr>\n",
       "    <tr>\n",
       "      <th>2</th>\n",
       "      <td>0.6</td>\n",
       "      <td>65.4</td>\n",
       "      <td>32.0</td>\n",
       "      <td>54.0</td>\n",
       "    </tr>\n",
       "    <tr>\n",
       "      <th>3</th>\n",
       "      <td>0.8</td>\n",
       "      <td>364.8</td>\n",
       "      <td>113.2</td>\n",
       "      <td>140.0</td>\n",
       "    </tr>\n",
       "  </tbody>\n",
       "</table>\n",
       "</div>"
      ],
      "text/plain": [
       "   index  Monetory  Frequency  Recency\n",
       "0    0.2       2.0        2.0      1.0\n",
       "1    0.4      11.0        6.0      6.0\n",
       "2    0.6      65.4       32.0     54.0\n",
       "3    0.8     364.8      113.2    140.0"
      ]
     },
     "execution_count": 134,
     "metadata": {},
     "output_type": "execute_result"
    }
   ],
   "source": [
    "quantile"
   ]
  },
  {
   "cell_type": "code",
   "execution_count": 162,
   "metadata": {},
   "outputs": [],
   "source": [
    "for i in range(len(segmented_rfm)):\n",
    "    if((segmented_rfm['r_quartile'][i]==5) & (segmented_rfm['f_quartile'][i]==5) & (segmented_rfm['m_quartile'][i]==5)):\n",
    "        segmented_rfm['Label'][i]='Champion'\n",
    "    elif((segmented_rfm['r_quartile'][i]==5) & ((segmented_rfm['f_quartile'][i]==4) | (segmented_rfm['f_quartile'][i]==5)) & ((segmented_rfm['m_quartile'][i]==4) | (segmented_rfm['m_quartile'][i]==5))):\n",
    "        segmented_rfm['Label'][i]='Loyal Customers'\n",
    "    elif((segmented_rfm['r_quartile'][i]==5) & ((segmented_rfm['f_quartile'][i]==4) | (segmented_rfm['f_quartile'][i]==5)) & ((segmented_rfm['m_quartile'][i]==4) | (segmented_rfm['m_quartile'][i]==5))):\n",
    "         segmented_rfm['Label'][i]='Potential loyalist'\n",
    "    elif(((segmented_rfm['r_quartile'][i]==5)|(segmented_rfm['r_quartile'][i]==4)) & (segmented_rfm['f_quartile'][i]<=1) & (segmented_rfm['m_quartile'][i]<=1)):   \n",
    "        segmented_rfm['Label'][i]='New customers'\n",
    "    elif(((segmented_rfm['r_quartile'][i]==3) | (segmented_rfm['r_quartile'][i]==4)) & (segmented_rfm['f_quartile'][i]<=1) & (segmented_rfm['m_quartile'][i]<=1)):\n",
    "        segmented_rfm['Label'][i]='Promsing'\n",
    "    elif(((segmented_rfm['r_quartile'][i]==2) | (segmented_rfm['r_quartile'][i]==3)) & ((segmented_rfm['f_quartile'][i]==2) | (segmented_rfm['f_quartile'][i]==3)) & ((segmented_rfm['m_quartile'][i]==2) | (segmented_rfm['m_quartile'][i]==3))):\n",
    "        segmented_rfm['Label'][i]='Need Attention'\n",
    "    elif((segmented_rfm['r_quartile'][i]<=2)  & ((segmented_rfm['f_quartile'][i]>=2) & (segmented_rfm['f_quartile'][i]<=5)) & ((segmented_rfm['m_quartile'][i]>=2) & (segmented_rfm['m_quartile'][i]<=5))):\n",
    "        segmented_rfm['Label'][i]='At Risk'\n",
    "    elif((segmented_rfm['r_quartile'][i]<=3)  & ((segmented_rfm['f_quartile'][i]==4) | (segmented_rfm['f_quartile'][i]==5)) & ((segmented_rfm['m_quartile'][i]==4) | (segmented_rfm['m_quartile'][i]==5))):\n",
    "        segmented_rfm['Label'][i]='Can’t Lose Them'\n",
    "    elif((segmented_rfm['r_quartile'][i]==1)&(segmented_rfm['f_quartile'][i]<=5)&(segmented_rfm['m_quartile'][i]<=5)):\n",
    "        segmented_rfm['Label'][i]='Lost'"
   ]
  },
  {
   "cell_type": "code",
   "execution_count": 163,
   "metadata": {},
   "outputs": [
    {
     "data": {
      "text/plain": [
       "Loyal Customers       196\n",
       "At Risk               189\n",
       "Champion              178\n",
       "Need Attention        171\n",
       "Lost                   91\n",
       "Hibernating            86\n",
       "Potential loyalist     85\n",
       "Promsing               64\n",
       "Can’t Lose Them        47\n",
       "New customers          18\n",
       "Name: Label, dtype: int64"
      ]
     },
     "execution_count": 163,
     "metadata": {},
     "output_type": "execute_result"
    }
   ],
   "source": [
    "segmented_rfm['Label'].value_counts()"
   ]
  },
  {
   "cell_type": "code",
   "execution_count": 164,
   "metadata": {},
   "outputs": [],
   "source": [
    "segmented_rfm.to_csv('Segmentation.csv')"
   ]
  }
 ],
 "metadata": {
  "kernelspec": {
   "display_name": "Python 3",
   "language": "python",
   "name": "python3"
  },
  "language_info": {
   "codemirror_mode": {
    "name": "ipython",
    "version": 3
   },
   "file_extension": ".py",
   "mimetype": "text/x-python",
   "name": "python",
   "nbconvert_exporter": "python",
   "pygments_lexer": "ipython3",
   "version": "3.6.5"
  }
 },
 "nbformat": 4,
 "nbformat_minor": 2
}
