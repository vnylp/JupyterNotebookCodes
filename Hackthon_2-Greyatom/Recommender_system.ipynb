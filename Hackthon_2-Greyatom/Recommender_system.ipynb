{
  "nbformat": 4,
  "nbformat_minor": 0,
  "metadata": {
    "colab": {
      "name": "Home_Recommender_system (3).ipynb",
      "version": "0.3.2",
      "provenance": []
    },
    "kernelspec": {
      "display_name": "Python 3",
      "language": "python",
      "name": "python3"
    }
  },
  "cells": [
    {
      "metadata": {
        "id": "knFf_sZx-KSL",
        "colab_type": "code",
        "colab": {}
      },
      "cell_type": "code",
      "source": [
        "import pandas as pd\n",
        "import os, io\n",
        "import numpy as np\n",
        "from pandas import Series, DataFrame, read_table\n",
        "import matplotlib.pyplot as plt\n",
        "import seaborn as sns\n",
        "import warnings\n",
        "warnings.filterwarnings('ignore')\n",
        "from sklearn.metrics import mean_squared_error\n",
        "%matplotlib inline\n",
        "df=pd.read_csv('https://raw.githubusercontent.com/siddesh001/Hackthon_2-Greyatom/master/data/challenge_data.csv')\n",
        "train=pd.read_csv('https://raw.githubusercontent.com/siddesh001/Hackthon_2-Greyatom/master/data/train.csv')\n",
        "df_final1=train.merge(df,left_on='challenge',right_on='challenge_ID')\n",
        "df_final1=df_final1.sort_values('user_id')\n",
        "df_final=df_final1.iloc[0:130000,:]"
      ],
      "execution_count": 0,
      "outputs": []
    },
    {
      "metadata": {
        "id": "QFnLgjTc-KSO",
        "colab_type": "text"
      },
      "cell_type": "markdown",
      "source": [
        "### Correlation between various entities"
      ]
    },
    {
      "metadata": {
        "id": "d8piSRm7-KSQ",
        "colab_type": "code",
        "colab": {}
      },
      "cell_type": "code",
      "source": [
        "challenge=pd.crosstab(df_final['user_id'],df_final['challenge'])\n",
        "challenge=challenge.corr()\n",
        "df_final['counter']=pd.Series(df_final.index)\n",
        "test_final=df_final[(df_final['counter']%10==0) | (df_final['counter']%11==0) | (df_final['counter']%12==0)]\n",
        "test_final=test_final.drop(test_final.index[0])\n",
        "train_final=df_final.drop(test_final.index)\n",
        "user_challenge=pd.crosstab(df_final['user_id'],df_final['challenge_ID'])\n",
        "user_challenge_corr=user_challenge.corr()"
      ],
      "execution_count": 0,
      "outputs": []
    },
    {
      "metadata": {
        "id": "38HHmZH8-KSS",
        "colab_type": "code",
        "colab": {
          "base_uri": "https://localhost:8080/",
          "height": 35
        },
        "outputId": "32d658a2-4061-437b-bf0b-ce6c25f029c4"
      },
      "cell_type": "code",
      "source": [
        "len(df_final['user_id'].unique())\n"
      ],
      "execution_count": 16,
      "outputs": [
        {
          "output_type": "execute_result",
          "data": {
            "text/plain": [
              "10000"
            ]
          },
          "metadata": {
            "tags": []
          },
          "execution_count": 16
        }
      ]
    },
    {
      "metadata": {
        "id": "VKLsvdb9_0HY",
        "colab_type": "code",
        "colab": {}
      },
      "cell_type": "code",
      "source": [
        "z=[]\n",
        "for a in df_final['user_id'].unique()[:10000]:\n",
        "  z.append(final_prediction(a))"
      ],
      "execution_count": 0,
      "outputs": []
    },
    {
      "metadata": {
        "id": "2rTnApYtAbYn",
        "colab_type": "code",
        "colab": {
          "base_uri": "https://localhost:8080/",
          "height": 35
        },
        "outputId": "a5972f80-9ce4-4f2a-9d29-21e56e23c09c"
      },
      "cell_type": "code",
      "source": [
        "z=pd.Series(z)\n",
        "z.mean()"
      ],
      "execution_count": 29,
      "outputs": [
        {
          "output_type": "execute_result",
          "data": {
            "text/plain": [
              "0.059620000000000006"
            ]
          },
          "metadata": {
            "tags": []
          },
          "execution_count": 29
        }
      ]
    },
    {
      "metadata": {
        "id": "nsNKqFhu-KSV",
        "colab_type": "code",
        "colab": {}
      },
      "cell_type": "code",
      "source": [
        "ab=4591\n",
        "def final_prediction(ab):\n",
        "  train_final['challenge_ID']\n",
        "  trial1=pd.DataFrame(user_challenge_corr[df_final[df_final['user_id']==ab]['challenge'].iloc[0]].sort_values(ascending=False).head(13).reset_index()).iloc[1:,:]\n",
        "  trial2=pd.DataFrame(user_challenge_corr[df_final[df_final['user_id']==ab]['challenge'].iloc[1]].sort_values(ascending=False).head(13).reset_index()).iloc[1:,:]\n",
        "  trial3=pd.DataFrame(user_challenge_corr[df_final[df_final['user_id']==ab]['challenge'].iloc[2]].sort_values(ascending=False).head(13).reset_index()).iloc[1:,:]\n",
        "  trial4=pd.DataFrame(user_challenge_corr[df_final[df_final['user_id']==ab]['challenge'].iloc[3]].sort_values(ascending=False).head(13).reset_index()).iloc[1:,:]\n",
        "  trial5=pd.DataFrame(user_challenge_corr[df_final[df_final['user_id']==ab]['challenge'].iloc[4]].sort_values(ascending=False).head(13).reset_index()).iloc[1:,:]\n",
        "  trial6=pd.DataFrame(user_challenge_corr[df_final[df_final['user_id']==ab]['challenge'].iloc[5]].sort_values(ascending=False).head(13).reset_index()).iloc[1:,:]\n",
        "  trial7=pd.DataFrame(user_challenge_corr[df_final[df_final['user_id']==ab]['challenge'].iloc[6]].sort_values(ascending=False).head(13).reset_index()).iloc[1:,:]\n",
        "  trial8=pd.DataFrame(user_challenge_corr[df_final[df_final['user_id']==ab]['challenge'].iloc[7]].sort_values(ascending=False).head(13).reset_index()).iloc[1:,:]\n",
        "  trial9=pd.DataFrame(user_challenge_corr[df_final[df_final['user_id']==ab]['challenge'].iloc[8]].sort_values(ascending=False).head(13).reset_index()).iloc[1:,:]\n",
        "  trial10=pd.DataFrame(user_challenge_corr[df_final[df_final['user_id']==ab]['challenge'].iloc[9]].sort_values(ascending=False).head(13).reset_index()).iloc[1:,:]\n",
        "  trial11=pd.DataFrame(user_challenge_corr[df_final[df_final['user_id']==ab]['challenge'].iloc[10]].sort_values(ascending=False).head(13).reset_index()).iloc[1:,:]\n",
        "  \n",
        "\n",
        "  all_dfs = [trial1,trial2,trial3,trial4,trial5,trial6,trial7,trial8,trial9,trial10,trial11]\n",
        "  user1=pd.concat(all_dfs).reset_index(drop=True).fillna(0)\n",
        "  user1.index=user1['challenge_ID']\n",
        "  user1['values']=user1.iloc[:,:-2].sum(axis=1)\n",
        "  user1_final=user1[['challenge_ID','values']]\n",
        "  user1['values']=user1.groupby('challenge_ID').sum()['values']\n",
        "  a=pd.Series(user1.groupby('challenge_ID').sum()['values']).reset_index()\n",
        "  b=user1_final['challenge_ID'].value_counts().reset_index()\n",
        "  user1_final1=a.merge(b,how='inner',left_on='challenge_ID', right_on='index')\n",
        "  #user1_final1.drop('index',axis=1,inplace=True)\n",
        "  user1_final1['challenge_ID_y']= user1_final1['challenge_ID_y'].astype(int)\n",
        "  user1_final1['avg']=pd.Series(user1_final1['values']/user1_final1['challenge_ID_y'])\n",
        "  \n",
        "  x=list(user1_final1['challenge_ID_x'])\n",
        "  y=list(df_final[df_final['user_id']==ab]['challenge_ID'].reset_index()['challenge_ID'].head(10))\n",
        "  \n",
        "  for i in range(len(x)):\n",
        "    for j in range(len(y)):\n",
        "        if (x[i]==y[j]):\n",
        "            x[i]='z'\n",
        "        \n",
        "  for i in range(1):\n",
        "      if((df_final[df_final['user_id']==ab]['challenge_ID'].tail(3).iloc[0]==x[0])|(df_final[df_final['user_id']==4576]['challenge_ID'].tail(3).iloc[0]==x[1]) | (df_final[df_final['user_id']==4576]['challenge_ID'].tail(3).iloc[0]==x[2])):\n",
        "          p=1\n",
        "      else:\n",
        "          p=0\n",
        "      if((df_final[df_final['user_id']==ab]['challenge_ID'].tail(3).iloc[1]==x[0])|(df_final[df_final['user_id']==4576]['challenge_ID'].tail(3).iloc[1]==x[1]) | (df_final[df_final['user_id']==4576]['challenge_ID'].tail(3).iloc[1]==x[2])):\n",
        "          q=0.5\n",
        "      else:\n",
        "          q=0\n",
        "      if(((df_final[df_final['user_id']==ab]['challenge_ID'].tail(3).iloc[2]==x[0])|(df_final[df_final['user_id']==4576]['challenge_ID'].tail(3).iloc[2]==x[1]) | (df_final[df_final['user_id']==4576]['challenge_ID'].tail(3).iloc[2]==x[2]))):\n",
        "          r=0.66\n",
        "      else:\n",
        "          r=0\n",
        "\n",
        "  return (p+q+r)/3"
      ],
      "execution_count": 0,
      "outputs": []
    },
    {
      "metadata": {
        "id": "iJGpO0tK-KSY",
        "colab_type": "code",
        "colab": {}
      },
      "cell_type": "code",
      "source": [
        "train_final['challenge_ID']\n",
        "trial1=pd.DataFrame(user_challenge_corr[df_final[df_final['user_id']==ab]['challenge'].iloc[0]].sort_values(ascending=False).head(13).reset_index()).iloc[1:,:]\n",
        "trial2=pd.DataFrame(user_challenge_corr[df_final[df_final['user_id']==ab]['challenge'].iloc[1]].sort_values(ascending=False).head(13).reset_index()).iloc[1:,:]\n",
        "trial3=pd.DataFrame(user_challenge_corr[df_final[df_final['user_id']==ab]['challenge'].iloc[2]].sort_values(ascending=False).head(13).reset_index()).iloc[1:,:]\n",
        "trial4=pd.DataFrame(user_challenge_corr[df_final[df_final['user_id']==ab]['challenge'].iloc[3]].sort_values(ascending=False).head(13).reset_index()).iloc[1:,:]\n",
        "trial5=pd.DataFrame(user_challenge_corr[df_final[df_final['user_id']==ab]['challenge'].iloc[4]].sort_values(ascending=False).head(13).reset_index()).iloc[1:,:]\n",
        "trial6=pd.DataFrame(user_challenge_corr[df_final[df_final['user_id']==ab]['challenge'].iloc[5]].sort_values(ascending=False).head(13).reset_index()).iloc[1:,:]\n",
        "trial7=pd.DataFrame(user_challenge_corr[df_final[df_final['user_id']==ab]['challenge'].iloc[6]].sort_values(ascending=False).head(13).reset_index()).iloc[1:,:]\n",
        "trial8=pd.DataFrame(user_challenge_corr[df_final[df_final['user_id']==ab]['challenge'].iloc[7]].sort_values(ascending=False).head(13).reset_index()).iloc[1:,:]\n",
        "trial9=pd.DataFrame(user_challenge_corr[df_final[df_final['user_id']==ab]['challenge'].iloc[8]].sort_values(ascending=False).head(13).reset_index()).iloc[1:,:]\n",
        "trial10=pd.DataFrame(user_challenge_corr[df_final[df_final['user_id']==ab]['challenge'].iloc[9]].sort_values(ascending=False).head(13).reset_index()).iloc[1:,:]\n",
        "trial11=pd.DataFrame(user_challenge_corr[df_final[df_final['user_id']==ab]['challenge'].iloc[10]].sort_values(ascending=False).head(13).reset_index()).iloc[1:,:]"
      ],
      "execution_count": 0,
      "outputs": []
    },
    {
      "metadata": {
        "id": "2fG6KFD8-KSe",
        "colab_type": "code",
        "colab": {}
      },
      "cell_type": "code",
      "source": [
        "all_dfs = [trial1,trial2,trial3,trial4,trial5,trial6,trial7,trial8,trial9,trial10,trial11]\n",
        "user1=pd.concat(all_dfs).reset_index(drop=True).fillna(0)\n",
        "user1.index=user1['challenge_ID']\n",
        "user1['values']=user1.iloc[:,:-2].sum(axis=1)\n",
        "user1_final=user1[['challenge_ID','values']]\n",
        "user1['values']=user1.groupby('challenge_ID').sum()['values']\n",
        "a=pd.Series(user1.groupby('challenge_ID').sum()['values']).reset_index()\n",
        "b=user1_final['challenge_ID'].value_counts().reset_index()\n",
        "user1_final1=a.merge(b,how='inner',left_on='challenge_ID', right_on='index')\n",
        "#user1_final1.drop('index',axis=1,inplace=True)\n",
        "user1_final1['challenge_ID_y']= user1_final1['challenge_ID_y'].astype(int)\n",
        "user1_final1['avg']=pd.Series(user1_final1['values']/user1_final1['challenge_ID_y'])"
      ],
      "execution_count": 0,
      "outputs": []
    },
    {
      "metadata": {
        "id": "Y2ZmaC7P-KSh",
        "colab_type": "code",
        "colab": {}
      },
      "cell_type": "code",
      "source": [
        "x=list(user1_final1['challenge_ID_x'])"
      ],
      "execution_count": 0,
      "outputs": []
    },
    {
      "metadata": {
        "id": "6gYCP93s-KSk",
        "colab_type": "code",
        "colab": {}
      },
      "cell_type": "code",
      "source": [
        "y=list(df_final[df_final['user_id']==ab]['challenge_ID'].reset_index()['challenge_ID'].head(10))\n"
      ],
      "execution_count": 0,
      "outputs": []
    },
    {
      "metadata": {
        "id": "e0RIfrXM-KSm",
        "colab_type": "code",
        "colab": {}
      },
      "cell_type": "code",
      "source": [
        "for i in range(len(x)):\n",
        "    for j in range(len(y)):\n",
        "        if (x[i]==y[j]):\n",
        "            x[i]='z'\n",
        "        "
      ],
      "execution_count": 0,
      "outputs": []
    },
    {
      "metadata": {
        "id": "nqXbJM7o-KSq",
        "colab_type": "code",
        "colab": {
          "base_uri": "https://localhost:8080/",
          "height": 35
        },
        "outputId": "ab84d70f-26a6-40f7-f73c-aed53203e2a2"
      },
      "cell_type": "code",
      "source": [
        "for i in range(1):\n",
        "    if((df_final[df_final['user_id']==ab]['challenge_ID'].tail(3).iloc[0]==x[0])|(df_final[df_final['user_id']==4576]['challenge_ID'].tail(3).iloc[0]==x[1]) | (df_final[df_final['user_id']==4576]['challenge_ID'].tail(3).iloc[0]==x[2])):\n",
        "        p=1\n",
        "    else:\n",
        "        p=0\n",
        "    if((df_final[df_final['user_id']==ab]['challenge_ID'].tail(3).iloc[1]==x[0])|(df_final[df_final['user_id']==4576]['challenge_ID'].tail(3).iloc[1]==x[1]) | (df_final[df_final['user_id']==4576]['challenge_ID'].tail(3).iloc[1]==x[2])):\n",
        "        q=0.5\n",
        "    else:\n",
        "        q=0\n",
        "    if(((df_final[df_final['user_id']==ab]['challenge_ID'].tail(3).iloc[2]==x[0])|(df_final[df_final['user_id']==4576]['challenge_ID'].tail(3).iloc[2]==x[1]) | (df_final[df_final['user_id']==4576]['challenge_ID'].tail(3).iloc[2]==x[2]))):\n",
        "        r=0.66\n",
        "    else:\n",
        "        r=0\n",
        "        \n",
        "(p+q+r)/3"
      ],
      "execution_count": 11,
      "outputs": [
        {
          "output_type": "execute_result",
          "data": {
            "text/plain": [
              "0.0"
            ]
          },
          "metadata": {
            "tags": []
          },
          "execution_count": 11
        }
      ]
    }
  ]
}